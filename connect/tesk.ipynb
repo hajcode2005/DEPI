{
 "cells": [
  {
   "cell_type": "code",
   "execution_count": 3,
   "id": "01204ac9",
   "metadata": {},
   "outputs": [
    {
     "name": "stdout",
     "output_type": "stream",
     "text": [
      "Requirement already satisfied: beautifulsoup4 in c:\\python\\lib\\site-packages (4.13.4)\n",
      "Requirement already satisfied: soupsieve>1.2 in c:\\python\\lib\\site-packages (from beautifulsoup4) (2.7)\n",
      "Requirement already satisfied: typing-extensions>=4.0.0 in c:\\python\\lib\\site-packages (from beautifulsoup4) (4.14.1)\n",
      "Note: you may need to restart the kernel to use updated packages.\n"
     ]
    }
   ],
   "source": [
    "pip install beautifulsoup4"
   ]
  },
  {
   "cell_type": "code",
   "execution_count": 4,
   "id": "a9d64a33",
   "metadata": {},
   "outputs": [
    {
     "name": "stdout",
     "output_type": "stream",
     "text": [
      "Requirement already satisfied: lxml in c:\\python\\lib\\site-packages (6.0.0)\n",
      "Note: you may need to restart the kernel to use updated packages.\n"
     ]
    }
   ],
   "source": [
    "pip install lxml "
   ]
  },
  {
   "cell_type": "code",
   "execution_count": 1,
   "id": "aece4bb5",
   "metadata": {},
   "outputs": [
    {
     "name": "stdout",
     "output_type": "stream",
     "text": [
      "Requirement already satisfied: requests in c:\\python\\lib\\site-packages (2.32.4)\n",
      "Requirement already satisfied: charset_normalizer<4,>=2 in c:\\python\\lib\\site-packages (from requests) (3.4.2)\n",
      "Requirement already satisfied: idna<4,>=2.5 in c:\\python\\lib\\site-packages (from requests) (3.10)\n",
      "Requirement already satisfied: urllib3<3,>=1.21.1 in c:\\python\\lib\\site-packages (from requests) (2.5.0)\n",
      "Requirement already satisfied: certifi>=2017.4.17 in c:\\python\\lib\\site-packages (from requests) (2025.7.14)\n",
      "Note: you may need to restart the kernel to use updated packages.\n"
     ]
    }
   ],
   "source": [
    "pip install requests"
   ]
  },
  {
   "cell_type": "code",
   "execution_count": 12,
   "id": "fcdb6fd5",
   "metadata": {},
   "outputs": [],
   "source": [
    "from bs4 import BeautifulSoup\n",
    "import requests\n",
    "html_text = requests.get('https://wuzzuf.net/search/jobs?a=spbg&q=machine%20learning')\n",
    "soup = BeautifulSoup(html_text.text,'lxml')\n",
    "\n"
   ]
  },
  {
   "cell_type": "code",
   "execution_count": null,
   "id": "57eed354",
   "metadata": {},
   "outputs": [],
   "source": []
  },
  {
   "cell_type": "code",
   "execution_count": 89,
   "id": "886d4b40",
   "metadata": {},
   "outputs": [
    {
     "name": "stdout",
     "output_type": "stream",
     "text": [
      " \n",
      "    job name         : AI Engineer - Travel Tech       \n",
      "    Company Name     : Rahala -\n",
      "    job place        : <span class=\"css-5wys0k\">Mohandessin, <!-- -->Giza, <!-- -->Egypt </span>\n",
      "    Required Skills  : <div class=\"css-y4udm8\"><style data-emotion=\"css 1lh32fc\">.css-1lh32fc{display:-webkit-box;display:-webkit-flex;display:-ms-flexbox;display:flex;margin-bottom:8px;-webkit-align-items:center;-webkit-box-align:center;-ms-flex-align:center;align-items:center;-webkit-box-flex-wrap:wrap;-webkit-flex-wrap:wrap;-ms-flex-wrap:wrap;flex-wrap:wrap;}</style><div class=\"css-1lh32fc\"><style data-emotion=\"css n2jc4m\">.css-n2jc4m{display:-webkit-inline-box;display:-webkit-inline-flex;display:-ms-inline-flexbox;display:inline-flex;-webkit-align-items:center;-webkit-box-align:center;-ms-flex-align:center;align-items:center;-webkit-text-decoration:none;text-decoration:none;color:inherit;margin-bottom:4px;}</style><a class=\"css-n2jc4m\" href=\"/a/Full-Time-Jobs-in-Egypt\"><style data-emotion=\"css adtuo7\">.css-adtuo7{cursor:pointer;padding:0 4px;border-radius:4px;}</style><style data-emotion=\"css 1ve4b75\">.css-1ve4b75{font-size:12px;font-weight:600;display:-webkit-inline-box;display:-webkit-inline-flex;display:-ms-inline-flexbox;display:inline-flex;-webkit-align-items:center;-webkit-box-align:center;-ms-flex-align:center;align-items:center;min-height:20px;margin-right:4px;border-radius:2px;max-width:196px;white-space:nowrap;overflow:hidden;cursor:default;text-overflow:ellipsis;padding:2px 4px;background-color:#EBEDF0;color:#001433;cursor:pointer;padding:0 4px;border-radius:4px;}</style><span class=\"css-1ve4b75 eoyjyou0\">Full Time</span></a><a href=\"/a/On-Site-Jobs-in-Egypt\"><style data-emotion=\"css 1i1n6hw\">.css-1i1n6hw{cursor:pointer;padding:0 4px;border-radius:4px;margin-bottom:4px;}</style><style data-emotion=\"css o1vzmt\">.css-o1vzmt{font-size:12px;font-weight:600;display:-webkit-inline-box;display:-webkit-inline-flex;display:-ms-inline-flexbox;display:inline-flex;-webkit-align-items:center;-webkit-box-align:center;-ms-flex-align:center;align-items:center;min-height:20px;margin-right:4px;border-radius:2px;max-width:196px;white-space:nowrap;overflow:hidden;cursor:default;text-overflow:ellipsis;padding:2px 4px;background-color:#EBEDF0;color:#001433;cursor:pointer;padding:0 4px;border-radius:4px;margin-bottom:4px;}</style><span class=\"css-o1vzmt eoyjyou0\">On-site</span></a></div><div><a class=\"css-o171kl\" href=\"/a/Experienced-Jobs-in-Egypt\">Experienced</a> <span>· <!-- -->2+ Yrs of Exp</span><a class=\"css-o171kl\" href=\"/a/IT-Software-Development-Jobs-in-Egypt\"> <!-- -->· <!-- -->IT/Software Development</a><a class=\"css-o171kl\" href=\"/a/Analyst-Research-Jobs-in-Egypt\"> <!-- -->· <!-- -->Analyst/Research</a><a class=\"css-o171kl\" href=\"/a/Engineering-Telecom-Technology-Jobs-in-Egypt\"> <!-- -->· <!-- -->Engineering - Telecom/Technology</a><style data-emotion=\"css 5x9pm1\">.css-5x9pm1{-webkit-text-decoration:none;text-decoration:none;color:inherit;max-width:calc(100vw / 2 - 32px);white-space:nowrap;overflow:hidden;text-overflow:ellipsis;display:-webkit-inline-box;display:-webkit-inline-flex;display:-ms-inline-flexbox;display:inline-flex;}</style><a class=\"css-5x9pm1\" href=\"/a/AI-Jobs-in-Egypt\"> <!-- -->· <!-- -->AI</a><a class=\"css-5x9pm1\" href=\"/a/Computer-Science-Jobs-in-Egypt\"> <!-- -->· <!-- -->Computer Science</a><a class=\"css-5x9pm1\" href=\"/a/Data-Science-Jobs-in-Egypt\"> <!-- -->· <!-- -->Data Science</a><a class=\"css-5x9pm1\" href=\"/a/Engineering-Jobs-in-Egypt\"> <!-- -->· <!-- -->Engineering</a><a class=\"css-5x9pm1\" href=\"/a/Information-Technology-IT-Jobs-in-Egypt\"> <!-- -->· <!-- -->Information Technology (IT)</a> <!-- -->·<!-- --> <a class=\"css-5x9pm1\" href=\"/a/Machine-Learning-Jobs-in-Egypt\"><span><strong class=\"highlight\">Machine</strong><span> </span><strong class=\"highlight\">Learning</strong></span></a><a class=\"css-5x9pm1\" href=\"/a/Python-Jobs-in-Egypt\"> <!-- -->· <!-- -->Python</a></div></div>\n",
      "    Published Date   : None\n",
      "        \n",
      "==================================================\n",
      " \n",
      "    job name         : Data Scientist       \n",
      "    Company Name     : Lumin -\n",
      "    job place        : Sheikh Zayed, Giza, Egypt\n",
      "    Required Skills  : Full TimeHybridExperienced · 3+ Yrs of Exp · IT/Software Development · Analyst/Research · Engineering - Telecom/Technology · Computer Science · Analysis · Mathematics · Data Analysis · Hadoop · Data Science · Information Technology (IT)\n",
      "    Published Date   : 18 days ago\n",
      "        \n",
      "==================================================\n",
      " \n",
      "    job name         : Data Scientist       \n",
      "    Company Name     : Egabi FSI -\n",
      "    job place        : Sheraton, Cairo, Egypt\n",
      "    Required Skills  : Full TimeOn-siteEntry Level · 1 - 4 Yrs of Exp · IT/Software Development · Engineering - Telecom/Technology · Computer Science · Data Mining · Data Science · data scientist · Hadoop · Machine Learning · Python · SQL\n",
      "    Published Date   : 21 days ago\n",
      "        \n",
      "==================================================\n",
      " \n",
      "    job name         : Graduate Internship: Enterprise Software Engineering       \n",
      "    Company Name     : eT3 - Tomorrow Information Technology -\n",
      "    job place        : New Cairo, Cairo, Egypt\n",
      "    Required Skills  : InternshipHybridEntry Level · IT/Software Development · Computer Science · Software Development · Software Engineering · Computer Engineering · Back-End Development · Front-End Development · front-end web development · Software Testing · Data Engineering\n",
      "    Published Date   : 17 days ago\n",
      "        \n",
      "==================================================\n",
      " \n",
      "    job name         : AI Engineer       \n",
      "    Company Name     : ProVision Group -\n",
      "    job place        : Maadi, Cairo, Egypt\n",
      "    Required Skills  : Full TimePart TimeFreelance / ProjectHybridExperienced · 2 - 7 Yrs of Exp · IT/Software Development · AI · Computer Vision · Data Science · Machine Learning\n",
      "    Published Date   : 23 days ago\n",
      "        \n",
      "==================================================\n",
      " \n",
      "    job name         : Machine Learning Engineer       \n",
      "    Company Name     : EPAM Systems -\n",
      "    job place        : Dubai, United Arab Emirates\n",
      "    Required Skills  : Full TimeExperienced · IT/Software Development · Engineering - Telecom/Technology · Engineering - Mechanical/Electrical · Machine Learning · Computer Science · Information Technology (IT) · Python · Software Engineering · Computer Engineering · Engineering\n",
      "    Published Date   : 9 days ago\n",
      "        \n",
      "==================================================\n",
      " \n",
      "    job name         : Machine Learning Engineer       \n",
      "    Company Name     : Mozn -\n",
      "    job place        : Riyadh, Saudi Arabia\n",
      "    Required Skills  : Full TimeEntry Level · IT/Software Development · Engineering - Telecom/Technology · Engineering - Mechanical/Electrical · Machine Learning · Computer Science · Information Technology (IT) · Python · Software Engineering · Computer Engineering · Engineering\n",
      "    Published Date   : 9 days ago\n",
      "        \n",
      "==================================================\n",
      " \n",
      "    job name         : AI Engineer (Computer Vision, Speech, NLP & Generative AI)       \n",
      "    Company Name     : Madar Soft -\n",
      "    job place        : Fleming, Alexandria, Egypt\n",
      "    Required Skills  : Full TimeRemoteExperienced · 3 - 5 Yrs of Exp · IT/Software Development · Engineering - Telecom/Technology · computer · AI · NLP · Engineering · Information Technology (IT) · CUDA · Linux · Computer Science\n",
      "    Published Date   : 2 months ago\n",
      "        \n",
      "==================================================\n",
      " \n",
      "    job name         : Learning & Development Specialist       \n",
      "    Company Name     : Sungrow MENA & Central Asia -\n",
      "    job place        : <span class=\"css-5wys0k\">Dubai, <!-- -->United Arab Emirates </span>\n",
      "    Required Skills  : <div class=\"css-y4udm8\"><div class=\"css-1lh32fc\"><a class=\"css-n2jc4m\" href=\"/a/Full-Time-Jobs-in-United-Arab-Emirates\"><span class=\"css-1ve4b75 eoyjyou0\">Full Time</span></a></div><div><a class=\"css-o171kl\" href=\"/a/Experienced-Jobs-in-United-Arab-Emirates\">Experienced</a><a class=\"css-o171kl\" href=\"/a/IT-Software-Development-Jobs-in-United-Arab-Emirates\"> <!-- -->· <!-- -->IT/Software Development</a><a class=\"css-o171kl\" href=\"/a/Engineering-Telecom-Technology-Jobs-in-United-Arab-Emirates\"> <!-- -->· <!-- -->Engineering - Telecom/Technology</a><a class=\"css-o171kl\" href=\"/a/Education-Teaching-Jobs-in-United-Arab-Emirates\"> <!-- -->· <!-- -->Education/Teaching</a><a class=\"css-5x9pm1\" href=\"/a/Education-Jobs-in-United-Arab-Emirates\"> <!-- -->· <!-- -->Education</a> <!-- -->·<!-- --> <a class=\"css-5x9pm1\" href=\"/a/Learning-Jobs-in-United-Arab-Emirates\"><span><strong class=\"highlight\">Learning</strong></span></a><a class=\"css-5x9pm1\" href=\"/a/Training-Jobs-in-United-Arab-Emirates\"> <!-- -->· <!-- -->Training</a><a class=\"css-5x9pm1\" href=\"/a/Information-Technology-IT-Jobs-in-United-Arab-Emirates\"> <!-- -->· <!-- -->Information Technology (IT)</a><a class=\"css-5x9pm1\" href=\"/a/Computer-Science-Jobs-in-United-Arab-Emirates\"> <!-- -->· <!-- -->Computer Science</a><a class=\"css-5x9pm1\" href=\"/a/Teaching-Jobs-in-United-Arab-Emirates\"> <!-- -->· <!-- -->Teaching</a> <!-- -->·<!-- --> <a class=\"css-5x9pm1\" href=\"/a/E-Learning-Jobs-in-United-Arab-Emirates\"><span><span>E-</span><strong class=\"highlight\">Learning</strong></span></a></div></div>\n",
      "    Published Date   : None\n",
      "        \n",
      "==================================================\n",
      " \n",
      "    job name         : Learning & Development Manager - LXR Eastern Mangroves Abu Dhabi (Pre-Opening)       \n",
      "    Company Name     : Hilton -\n",
      "    job place        : <span class=\"css-5wys0k\">Dubai, <!-- -->United Arab Emirates </span>\n",
      "    Required Skills  : <div class=\"css-y4udm8\"><div class=\"css-1lh32fc\"><a class=\"css-n2jc4m\" href=\"/a/Full-Time-Jobs-in-United-Arab-Emirates\"><span class=\"css-1ve4b75 eoyjyou0\">Full Time</span></a></div><div><a class=\"css-o171kl\" href=\"/a/Entry-Level-Jobs-in-United-Arab-Emirates\">Entry Level</a><a class=\"css-o171kl\" href=\"/a/IT-Software-Development-Jobs-in-United-Arab-Emirates\"> <!-- -->· <!-- -->IT/Software Development</a><a class=\"css-o171kl\" href=\"/a/Engineering-Telecom-Technology-Jobs-in-United-Arab-Emirates\"> <!-- -->· <!-- -->Engineering - Telecom/Technology</a><a class=\"css-o171kl\" href=\"/a/Education-Teaching-Jobs-in-United-Arab-Emirates\"> <!-- -->· <!-- -->Education/Teaching</a><a class=\"css-5x9pm1\" href=\"/a/Education-Jobs-in-United-Arab-Emirates\"> <!-- -->· <!-- -->Education</a> <!-- -->·<!-- --> <a class=\"css-5x9pm1\" href=\"/a/Learning-Jobs-in-United-Arab-Emirates\"><span><strong class=\"highlight\">Learning</strong></span></a><a class=\"css-5x9pm1\" href=\"/a/Training-Jobs-in-United-Arab-Emirates\"> <!-- -->· <!-- -->Training</a><a class=\"css-5x9pm1\" href=\"/a/Information-Technology-IT-Jobs-in-United-Arab-Emirates\"> <!-- -->· <!-- -->Information Technology (IT)</a><a class=\"css-5x9pm1\" href=\"/a/Computer-Science-Jobs-in-United-Arab-Emirates\"> <!-- -->· <!-- -->Computer Science</a><a class=\"css-5x9pm1\" href=\"/a/Teaching-Jobs-in-United-Arab-Emirates\"> <!-- -->· <!-- -->Teaching</a> <!-- -->·<!-- --> <a class=\"css-5x9pm1\" href=\"/a/E-Learning-Jobs-in-United-Arab-Emirates\"><span><span>E-</span><strong class=\"highlight\">Learning</strong></span></a></div></div>\n",
      "    Published Date   : None\n",
      "        \n",
      "==================================================\n",
      " \n",
      "    job name         : 3D Printer Maintenance Technician       \n",
      "    Company Name     : Gazelle 3D Tech -\n",
      "    job place        : 6th of October, Giza, Egypt\n",
      "    Required Skills  : Full TimeOn-siteExperienced · 2+ Yrs of Exp · males_only · Installation/Maintenance/Repair · 3D Printing · Machines · Maintenance\n",
      "    Published Date   : 1 month ago\n",
      "        \n",
      "==================================================\n",
      " \n",
      "    job name         : Senior Data Analyst       \n",
      "    Company Name     : Xceed Contact Center -\n",
      "    job place        : Cairo, Egypt\n",
      "    Required Skills  : Full TimeOn-siteExperienced · 3+ Yrs of Exp · Analyst/Research · Engineering - Telecom/Technology · ETL · Data Analysis · Communication skills · Python · SQL · Business Intelligence · PowerBI · Pandas\n",
      "    Published Date   : 17 days ago\n",
      "        \n",
      "==================================================\n",
      " \n",
      "    job name         : AI Engineer - Client Engineering KSA       \n",
      "    Company Name     : IBM -\n",
      "    job place        : <span class=\"css-5wys0k\">Riyadh, <!-- -->Saudi Arabia </span>\n",
      "    Required Skills  : <div class=\"css-y4udm8\"><div class=\"css-1lh32fc\"><a class=\"css-n2jc4m\" href=\"/saudi/a/Full-Time-Jobs-in-Saudi-Arabia\"><span class=\"css-1ve4b75 eoyjyou0\">Full Time</span></a></div><div><a class=\"css-o171kl\" href=\"/saudi/a/Experienced-Jobs-in-Saudi-Arabia\">Experienced</a><a class=\"css-o171kl\" href=\"/saudi/a/IT-Software-Development-Jobs-in-Saudi-Arabia\"> <!-- -->· <!-- -->IT/Software Development</a><a class=\"css-o171kl\" href=\"/saudi/a/Analyst-Research-Jobs-in-Saudi-Arabia\"> <!-- -->· <!-- -->Analyst/Research</a><a class=\"css-o171kl\" href=\"/saudi/a/Engineering-Telecom-Technology-Jobs-in-Saudi-Arabia\"> <!-- -->· <!-- -->Engineering - Telecom/Technology</a><a class=\"css-5x9pm1\" href=\"/saudi/a/AI-Jobs-in-Saudi-Arabia\"> <!-- -->· <!-- -->AI</a><a class=\"css-5x9pm1\" href=\"/saudi/a/Information-Technology-IT-Jobs-in-Saudi-Arabia\"> <!-- -->· <!-- -->Information Technology (IT)</a><a class=\"css-5x9pm1\" href=\"/saudi/a/Computer-Science-Jobs-in-Saudi-Arabia\"> <!-- -->· <!-- -->Computer Science</a><a class=\"css-5x9pm1\" href=\"/saudi/a/Engineering-Jobs-in-Saudi-Arabia\"> <!-- -->· <!-- -->Engineering</a><a class=\"css-5x9pm1\" href=\"/saudi/a/Python-Jobs-in-Saudi-Arabia\"> <!-- -->· <!-- -->Python</a><a class=\"css-5x9pm1\" href=\"/saudi/a/Software-Engineering-Jobs-in-Saudi-Arabia\"> <!-- -->· <!-- -->Software Engineering</a><a class=\"css-5x9pm1\" href=\"/saudi/a/NLP-Jobs-in-Saudi-Arabia\"> <!-- -->· <!-- -->NLP</a></div></div>\n",
      "    Published Date   : None\n",
      "        \n",
      "==================================================\n",
      " \n",
      "    job name         : MLOps Engineer       \n",
      "    Company Name     : Confidential -\n",
      "    job place        : Cairo, Egypt\n",
      "    Required Skills  : Full TimeOn-siteExperienced · 5 - 9 Yrs of Exp · IT/Software Development · Cloudera · MLOps · MLflow · Hadoop\n",
      "    Published Date   : 9 days ago\n",
      "        \n",
      "==================================================\n",
      " \n",
      "    job name         : Software Engineer (AI & Data Analytics)       \n",
      "    Company Name     : AlZamel for consultation -\n",
      "    job place        : Maadi, Cairo, Egypt\n",
      "    Required Skills  : Full TimeOn-siteExperienced · 3 - 6 Yrs of Exp · IT/Software Development · Engineering - Telecom/Technology · Analysis · Information Technology (IT) · Cloud · Software Engineering · Software Development · Java · Programming · AWS\n",
      "    Published Date   : 8 days ago\n",
      "        \n",
      "==================================================\n"
     ]
    }
   ],
   "source": [
    "import requests\n",
    "from bs4 import BeautifulSoup\n",
    "\n",
    "html_text = requests.get('https://wuzzuf.net/search/jobs?a=spbg&q=machine%20learning')\n",
    "\n",
    "soup = BeautifulSoup(html_text.text, 'lxml')\n",
    "jobs = soup.find_all('div',class_ = 'css-1gatmva e1v1l3u10')\n",
    "\n",
    "for job in jobs:\n",
    "   job_name = job.find('h2', class_ = 'css-m604qf').text\n",
    "   company_name = job.find('a',class_ = 'css-17s97q8').text\n",
    "   job_place = job.find('span' , class_ = 'css-5wys0k')\n",
    "   skills = job.find('div',class_ = 'css-y4udm8')\n",
    "   published_date = job.find('div',class_ = 'css-do6t5g')\n",
    "\n",
    "   if job_name and company_name and job_place and skills and published_date:\n",
    "        job_name = job_name.strip()\n",
    "        company_name = company_name.strip()\n",
    "        job_place = job_place.text.strip()\n",
    "        skills = ', '.join(skills.text.strip() for skill in skills.text.strip().split(','))\n",
    "        published_date = published_date.text.strip()\n",
    "\n",
    "   print(f''' \n",
    "    job name         : {job_name}       \n",
    "    Company Name     : {company_name}\n",
    "    job place        : {job_place}\n",
    "    Required Skills  : {skills}\n",
    "    Published Date   : {published_date}\n",
    "        ''')\n",
    "   print(\"=\"*50)"
   ]
  }
 ],
 "metadata": {
  "kernelspec": {
   "display_name": "Python 3",
   "language": "python",
   "name": "python3"
  },
  "language_info": {
   "codemirror_mode": {
    "name": "ipython",
    "version": 3
   },
   "file_extension": ".py",
   "mimetype": "text/x-python",
   "name": "python",
   "nbconvert_exporter": "python",
   "pygments_lexer": "ipython3",
   "version": "3.12.9"
  }
 },
 "nbformat": 4,
 "nbformat_minor": 5
}
