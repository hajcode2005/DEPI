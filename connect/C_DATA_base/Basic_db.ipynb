{
 "cells": [
  {
   "cell_type": "markdown",
   "id": "569fe101",
   "metadata": {},
   "source": [
    "# Database With Python"
   ]
  },
  {
   "cell_type": "markdown",
   "id": "b0789a4f",
   "metadata": {},
   "source": [
    "Install connector"
   ]
  },
  {
   "cell_type": "code",
   "execution_count": 1,
   "id": "c7893f62",
   "metadata": {},
   "outputs": [],
   "source": [
    "import psycopg2"
   ]
  },
  {
   "cell_type": "markdown",
   "id": "b036f1f6",
   "metadata": {},
   "source": [
    "reset password \n",
    "\n",
    "###### ALTER USER postgres WITH PASSWORD 'new_password';"
   ]
  },
  {
   "cell_type": "markdown",
   "id": "48773415",
   "metadata": {},
   "source": [
    "Create connectors"
   ]
  },
  {
   "cell_type": "code",
   "execution_count": 2,
   "id": "cf4cdb3c",
   "metadata": {},
   "outputs": [],
   "source": [
    "my_conn = psycopg2.connect(\n",
    "    \n",
    "    host = \"localhost\",\n",
    "    database = 'database',\n",
    "    user = 'postgres',\n",
    "    password = \"kill\"\n",
    "    \n",
    "    \n",
    "    \n",
    ")\n"
   ]
  },
  {
   "cell_type": "markdown",
   "id": "ead6532b",
   "metadata": {},
   "source": [
    "has a cursor"
   ]
  },
  {
   "cell_type": "code",
   "execution_count": 3,
   "id": "233ad167",
   "metadata": {},
   "outputs": [],
   "source": [
    "cur = my_conn.cursor()"
   ]
  },
  {
   "cell_type": "markdown",
   "id": "70eda931",
   "metadata": {},
   "source": [
    "make simple query"
   ]
  },
  {
   "cell_type": "code",
   "execution_count": 7,
   "id": "7d278100",
   "metadata": {},
   "outputs": [
    {
     "name": "stdout",
     "output_type": "stream",
     "text": [
      "postgres\n"
     ]
    }
   ],
   "source": [
    "cur.execute('SELECT current_user')\n",
    "print(cur.fetchone()[0])\n"
   ]
  },
  {
   "cell_type": "markdown",
   "id": "4e29a374",
   "metadata": {},
   "source": [
    "create new database"
   ]
  },
  {
   "cell_type": "code",
   "execution_count": 6,
   "id": "eca7673a",
   "metadata": {},
   "outputs": [],
   "source": [
    "my_conn.autocommit = True\n",
    "cur = my_conn.cursor()\n",
    "cur.execute(\"CREATE DATABASE D_NEW\")"
   ]
  },
  {
   "cell_type": "markdown",
   "id": "87e6aed8",
   "metadata": {},
   "source": [
    "how to get all database name"
   ]
  },
  {
   "cell_type": "code",
   "execution_count": 9,
   "id": "e9d254eb",
   "metadata": {},
   "outputs": [
    {
     "name": "stdout",
     "output_type": "stream",
     "text": [
      "postgres\n",
      "database\n",
      "bik\n",
      "task1\n",
      "student_des\n",
      "ds_new\n"
     ]
    }
   ],
   "source": [
    "cur.execute(\"SELECT datname from PG_database WHERE datistemplate = false\")\n",
    "for db in cur.fetchall():\n",
    "    print(db[0])"
   ]
  },
  {
   "cell_type": "code",
   "execution_count": null,
   "id": "4168a1c7",
   "metadata": {},
   "outputs": [
    {
     "ename": "DuplicateTable",
     "evalue": "relation \"students_\" already exists\n",
     "output_type": "error",
     "traceback": [
      "\u001b[31m---------------------------------------------------------------------------\u001b[39m",
      "\u001b[31mDuplicateTable\u001b[39m                            Traceback (most recent call last)",
      "\u001b[36mCell\u001b[39m\u001b[36m \u001b[39m\u001b[32mIn[8]\u001b[39m\u001b[32m, line 1\u001b[39m\n\u001b[32m----> \u001b[39m\u001b[32m1\u001b[39m \u001b[43mcur\u001b[49m\u001b[43m.\u001b[49m\u001b[43mexecute\u001b[49m\u001b[43m(\u001b[49m\u001b[33;43m\"\u001b[39;49m\u001b[33;43mCREATE TABLE students_ (name VARCHAR(50), phone VARCHAR(20))\u001b[39;49m\u001b[33;43m\"\u001b[39;49m\u001b[43m)\u001b[49m\n\u001b[32m      2\u001b[39m \u001b[38;5;28mprint\u001b[39m(\u001b[33m\"\u001b[39m\u001b[33mtable created\u001b[39m\u001b[33m\"\u001b[39m)\n",
      "\u001b[31mDuplicateTable\u001b[39m: relation \"students_\" already exists\n"
     ]
    }
   ],
   "source": [
    "cur.execute(\"CREATE TABLE students_ (name VARCHAR(50), ohone VARCHAR(20))\")\n",
    "print(\"table created\")"
   ]
  },
  {
   "cell_type": "code",
   "execution_count": 9,
   "id": "c39be3db",
   "metadata": {},
   "outputs": [],
   "source": [
    "cur.execute(\"ALTER TABLE students_ RENAME COLUMN ohone TO phone\")"
   ]
  },
  {
   "cell_type": "code",
   "execution_count": 12,
   "id": "53c4841a",
   "metadata": {},
   "outputs": [
    {
     "name": "stdout",
     "output_type": "stream",
     "text": [
      "the new record was inserted\n",
      "1\n"
     ]
    }
   ],
   "source": [
    "sql = \"INSERT INTO students_ (name , phone) VALUES(%s,%s)\"\n",
    "data = (\"mohamed\", \"1234567\")\n",
    "cur.execute(sql,data)\n",
    "my_conn.commit()\n",
    "print(\"the new record was inserted\")\n",
    "print(cur.rowcount)"
   ]
  },
  {
   "cell_type": "code",
   "execution_count": 14,
   "id": "a8fefb15",
   "metadata": {},
   "outputs": [
    {
     "name": "stdout",
     "output_type": "stream",
     "text": [
      "5\n"
     ]
    }
   ],
   "source": [
    "sql = \"INSERT INTO students_ (name , phone) VALUES(%s,%s)\"\n",
    "data = [\n",
    "        (\"mohamed\", \"1234567\"),\n",
    "        (\"mohamed\", \"1234567\"),\n",
    "        (\"mohamed\", \"1234567\"),\n",
    "        (\"mohamed\", \"1234567\"),\n",
    "        (\"mohamed\", \"1234567\")\n",
    "        \n",
    "        ]\n",
    "cur.executemany(sql, data)\n",
    "my_conn.commit()\n",
    "print(cur.rowcount)"
   ]
  },
  {
   "cell_type": "code",
   "execution_count": 15,
   "id": "bb9d1ee2",
   "metadata": {},
   "outputs": [
    {
     "name": "stdout",
     "output_type": "stream",
     "text": [
      "('hager', '123456')\n",
      "('mohamed', '1234567')\n",
      "('mohamed', '1234567')\n",
      "('mohamed', '1234567')\n",
      "('mohamed', '1234567')\n",
      "('mohamed', '1234567')\n",
      "('mohamed', '1234567')\n",
      "('mohamed', '1234567')\n",
      "('mohamed', '1234567')\n",
      "('mohamed', '1234567')\n",
      "('mohamed', '1234567')\n",
      "('mohamed', '1234567')\n"
     ]
    }
   ],
   "source": [
    "cur.execute(\"select * from students_\")\n",
    "results = cur.fetchall()\n",
    "for i in results :\n",
    "    print(i)"
   ]
  },
  {
   "cell_type": "code",
   "execution_count": 16,
   "id": "a02fcf8c",
   "metadata": {},
   "outputs": [
    {
     "name": "stdout",
     "output_type": "stream",
     "text": [
      "('hager',)\n",
      "('mohamed',)\n",
      "('mohamed',)\n",
      "('mohamed',)\n",
      "('mohamed',)\n",
      "('mohamed',)\n",
      "('mohamed',)\n",
      "('mohamed',)\n",
      "('mohamed',)\n",
      "('mohamed',)\n",
      "('mohamed',)\n",
      "('mohamed',)\n"
     ]
    }
   ],
   "source": [
    "cur.execute(\"select name from students_\")\n",
    "results = cur.fetchall()\n",
    "for i in results :\n",
    "    print(i)"
   ]
  },
  {
   "cell_type": "code",
   "execution_count": null,
   "id": "6bc73c22",
   "metadata": {},
   "outputs": [
    {
     "name": "stdout",
     "output_type": "stream",
     "text": [
      "('123456',)\n"
     ]
    }
   ],
   "source": [
    "cur.execute(\"select phone from students_ where name = %s \")\n",
    "data = (\"faris\")\n",
    "results = cur.fetchall()\n",
    "for i in results :\n",
    "    print(i)"
   ]
  },
  {
   "cell_type": "code",
   "execution_count": 22,
   "id": "46d496ab",
   "metadata": {},
   "outputs": [
    {
     "name": "stdout",
     "output_type": "stream",
     "text": [
      "[('123456',)]\n"
     ]
    }
   ],
   "source": [
    "sql= \"SELECT phone FROM students_ WHERE name = %s \"\n",
    "data = (\"hager\",)\n",
    "cur.execute(sql,data)\n",
    "results = cur.fetchall()\n",
    "print(results)"
   ]
  },
  {
   "cell_type": "code",
   "execution_count": 25,
   "id": "01c44474",
   "metadata": {},
   "outputs": [
    {
     "name": "stdout",
     "output_type": "stream",
     "text": [
      "('mohamed', '1234567')\n",
      "('mohamed', '1234567')\n",
      "('mohamed', '1234567')\n",
      "('mohamed', '1234567')\n",
      "('mohamed', '1234567')\n",
      "('mohamed', '1234567')\n",
      "('mohamed', '1234567')\n",
      "('mohamed', '1234567')\n",
      "('mohamed', '1234567')\n",
      "('mohamed', '1234567')\n",
      "('mohamed', '1234567')\n",
      "('hager', '0000000')\n"
     ]
    }
   ],
   "source": [
    "cur.execute(\"UPDATE students_ SET phone = '0000000' where name = 'hager' \")\n",
    "my_conn.commit()\n",
    "cur.execute(\"select * from students_\")\n",
    "results = cur.fetchall()\n",
    "for i in results :\n",
    " print(i)"
   ]
  },
  {
   "cell_type": "code",
   "execution_count": 28,
   "id": "9123907b",
   "metadata": {},
   "outputs": [
    {
     "name": "stdout",
     "output_type": "stream",
     "text": [
      "('mohamed', '1234567')\n",
      "('mohamed', '1234567')\n",
      "('mohamed', '1234567')\n",
      "('mohamed', '1234567')\n",
      "('mohamed', '1234567')\n",
      "('mohamed', '1234567')\n",
      "('mohamed', '1234567')\n",
      "('mohamed', '1234567')\n",
      "('mohamed', '1234567')\n",
      "('mohamed', '1234567')\n",
      "('mohamed', '1234567')\n",
      "('hager', '0000000')\n"
     ]
    }
   ],
   "source": [
    "# Get inputs from user \n",
    "update_value = input(\"Enter new phone: \") \n",
    "condition_value = input(\"Enter student name: \") #\n",
    "#  Create the data tuple\n",
    "data = (update_value, condition_value) \n",
    "# Execute update with parameters \n",
    "sql = cur.execute(\"UPDATE students_ SET phone = %s WHERE name = %s\", data) \n",
    "my_conn.commit() \n",
    "# Fetch and print all rows \n",
    "cur.execute(\"SELECT * FROM students_\") \n",
    "results = cur.fetchall() \n",
    "for row in results: \n",
    "    print(row)"
   ]
  },
  {
   "cell_type": "code",
   "execution_count": null,
   "id": "d3cda8c3",
   "metadata": {},
   "outputs": [
    {
     "name": "stdout",
     "output_type": "stream",
     "text": [
      "no student found\n",
      "('mohamed', '1234567')\n",
      "('mohamed', '1234567')\n",
      "('mohamed', '1234567')\n",
      "('mohamed', '1234567')\n",
      "('mohamed', '1234567')\n",
      "('mohamed', '1234567')\n",
      "('mohamed', '1234567')\n",
      "('mohamed', '1234567')\n",
      "('mohamed', '1234567')\n",
      "('mohamed', '1234567')\n",
      "('mohamed', '1234567')\n"
     ]
    }
   ],
   "source": [
    "name_to_delete = input(\"enter name to delete :\")\n",
    "cur.execute(\"delete from students_ where name = %s \", (name_to_delete,))\n",
    "my_conn.commit()\n",
    "if cur.rowcount > 0 :\n",
    "    print(f\"{cur.rowcount} record (s) deleted .\")\n",
    "else :\n",
    "    print(\"no student found\")  \n",
    "cur.execute(\"select * from students_\")     \n",
    "results = cur.fetchall() \n",
    "for row in results: \n",
    "    print(row) "
   ]
  }
 ],
 "metadata": {
  "kernelspec": {
   "display_name": "Python 3",
   "language": "python",
   "name": "python3"
  },
  "language_info": {
   "codemirror_mode": {
    "name": "ipython",
    "version": 3
   },
   "file_extension": ".py",
   "mimetype": "text/x-python",
   "name": "python",
   "nbconvert_exporter": "python",
   "pygments_lexer": "ipython3",
   "version": "3.12.9"
  }
 },
 "nbformat": 4,
 "nbformat_minor": 5
}
