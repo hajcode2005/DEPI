{
 "cells": [
  {
   "cell_type": "markdown",
   "id": "47825a7d",
   "metadata": {},
   "source": [
    "#Database with bython\n"
   ]
  },
  {
   "cell_type": "code",
   "execution_count": 4,
   "id": "2bc2270a",
   "metadata": {},
   "outputs": [],
   "source": [
    "import psycopg2"
   ]
  },
  {
   "cell_type": "code",
   "execution_count": 5,
   "id": "e8dfc9d8",
   "metadata": {},
   "outputs": [],
   "source": [
    "my_connect = psycopg2.connect(\n",
    "    host = \"localhost\" ,\n",
    "    database = 'bik' ,\n",
    "    user = 'postgres',\n",
    "    password = 'kill'\n",
    ")"
   ]
  },
  {
   "cell_type": "code",
   "execution_count": 6,
   "id": "84ec177b",
   "metadata": {},
   "outputs": [],
   "source": [
    "cur = my_connect.cursor()"
   ]
  },
  {
   "cell_type": "code",
   "execution_count": 7,
   "id": "a26b05a2",
   "metadata": {},
   "outputs": [
    {
     "name": "stdout",
     "output_type": "stream",
     "text": [
      "postgres\n"
     ]
    }
   ],
   "source": [
    "cur.execute('SELECT current_user')\n",
    "print(cur.fetchone()[0])"
   ]
  },
  {
   "cell_type": "code",
   "execution_count": 8,
   "id": "1bdeec05",
   "metadata": {},
   "outputs": [
    {
     "ename": "ProgrammingError",
     "evalue": "set_session cannot be used inside a transaction",
     "output_type": "error",
     "traceback": [
      "\u001b[31m---------------------------------------------------------------------------\u001b[39m",
      "\u001b[31mProgrammingError\u001b[39m                          Traceback (most recent call last)",
      "\u001b[36mCell\u001b[39m\u001b[36m \u001b[39m\u001b[32mIn[8]\u001b[39m\u001b[32m, line 1\u001b[39m\n\u001b[32m----> \u001b[39m\u001b[32m1\u001b[39m \u001b[43mmy_connect\u001b[49m\u001b[43m.\u001b[49m\u001b[43mautocommit\u001b[49m = \u001b[38;5;28;01mTrue\u001b[39;00m\n\u001b[32m      2\u001b[39m cur = my_connect.cursor()\n\u001b[32m      3\u001b[39m cur.execute(\u001b[33m'\u001b[39m\u001b[33mCREATE DATABASE ds_new\u001b[39m\u001b[33m'\u001b[39m)\n",
      "\u001b[31mProgrammingError\u001b[39m: set_session cannot be used inside a transaction"
     ]
    }
   ],
   "source": [
    "my_connect.autocommit = True\n",
    "cur = my_connect.cursor()\n",
    "cur.execute('CREATE DATABASE ds_new')"
   ]
  }
 ],
 "metadata": {
  "kernelspec": {
   "display_name": "Python 3",
   "language": "python",
   "name": "python3"
  },
  "language_info": {
   "codemirror_mode": {
    "name": "ipython",
    "version": 3
   },
   "file_extension": ".py",
   "mimetype": "text/x-python",
   "name": "python",
   "nbconvert_exporter": "python",
   "pygments_lexer": "ipython3",
   "version": "3.12.9"
  }
 },
 "nbformat": 4,
 "nbformat_minor": 5
}
