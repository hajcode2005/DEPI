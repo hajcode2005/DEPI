{
 "cells": [
  {
   "cell_type": "code",
   "execution_count": 2,
   "id": "53daf5ee",
   "metadata": {},
   "outputs": [],
   "source": [
    "import numpy as np"
   ]
  },
  {
   "cell_type": "code",
   "execution_count": 7,
   "id": "4f325ea2",
   "metadata": {},
   "outputs": [
    {
     "name": "stdout",
     "output_type": "stream",
     "text": [
      "0\n",
      "()\n",
      "========\n",
      "1\n",
      "(3,)\n",
      "========\n",
      "2\n",
      "(3, 3)\n"
     ]
    }
   ],
   "source": [
    "s = np.array(5)\n",
    "print(s.ndim)\n",
    "print(s.shape)\n",
    "print(\"========\")\n",
    "v = np.array([1, 2, 3])\n",
    "print(v.ndim)\n",
    "print(v.shape)\n",
    "m = np.array([[1,2,3],\n",
    "              [4,5,6],\n",
    "              [7,8,9]\n",
    "              ])\n",
    "print(\"========\")\n",
    "print(m.ndim)\n",
    "print(m.shape)"
   ]
  },
  {
   "cell_type": "code",
   "execution_count": 8,
   "id": "62fe0508",
   "metadata": {},
   "outputs": [
    {
     "name": "stdout",
     "output_type": "stream",
     "text": [
      "[1 2 3 4 5 6]\n",
      "[[1 2]\n",
      " [3 4]\n",
      " [5 6]]\n"
     ]
    }
   ],
   "source": [
    "vec_1 = np.array([1, 2, 3, 4,5,6])\n",
    "\n",
    "vec_2 = vec_1.reshape(3, 2)\n",
    "print(vec_1)\n",
    "print(vec_2)\n"
   ]
  },
  {
   "cell_type": "code",
   "execution_count": 10,
   "id": "48100d26",
   "metadata": {},
   "outputs": [
    {
     "data": {
      "text/plain": [
       "array([[1],\n",
       "       [2],\n",
       "       [3],\n",
       "       [4],\n",
       "       [5],\n",
       "       [6],\n",
       "       [7],\n",
       "       [8]])"
      ]
     },
     "execution_count": 10,
     "metadata": {},
     "output_type": "execute_result"
    }
   ],
   "source": [
    "vec_2 = np.array([1, 2, 3 , 4, 5 ,6 ,7,8])\n",
    "mat_2 = vec_2.reshape((vec_2.shape[0],1))\n",
    "mat_2"
   ]
  },
  {
   "cell_type": "code",
   "execution_count": 11,
   "id": "5db76a23",
   "metadata": {},
   "outputs": [
    {
     "data": {
      "text/plain": [
       "array([[1],\n",
       "       [2],\n",
       "       [3],\n",
       "       [4],\n",
       "       [5],\n",
       "       [6],\n",
       "       [7],\n",
       "       [8]])"
      ]
     },
     "execution_count": 11,
     "metadata": {},
     "output_type": "execute_result"
    }
   ],
   "source": [
    "vec_2[:,None]"
   ]
  },
  {
   "cell_type": "code",
   "execution_count": 15,
   "id": "42c6301a",
   "metadata": {},
   "outputs": [
    {
     "data": {
      "text/plain": [
       "dtype('O')"
      ]
     },
     "execution_count": 15,
     "metadata": {},
     "output_type": "execute_result"
    }
   ],
   "source": [
    "mat = np.array([[0.1, True, o1],\n",
    "                [4, 5, 6],\n",
    "                [7, 8, 9]\n",
    "                ])\n",
    "mat.dtype"
   ]
  },
  {
   "cell_type": "code",
   "execution_count": 18,
   "id": "88b6c16b",
   "metadata": {},
   "outputs": [
    {
     "name": "stdout",
     "output_type": "stream",
     "text": [
      "<U32\n",
      "[['0.1' 'True' 'hag']\n",
      " ['4' '5' '6']\n",
      " ['7' '8' '9']]\n"
     ]
    }
   ],
   "source": [
    "mat = np.array([[0.1, True, 'hag'],\n",
    "                [4, 5, 6],\n",
    "                [7, 8, 9]\n",
    "                ])\n",
    "print(mat.dtype)\n",
    "print(mat)"
   ]
  },
  {
   "cell_type": "code",
   "execution_count": 14,
   "id": "ca9c559f",
   "metadata": {},
   "outputs": [],
   "source": [
    "class c :\n",
    "    x=3\n",
    "o1 = c()    "
   ]
  },
  {
   "cell_type": "code",
   "execution_count": 24,
   "id": "949bfc2f",
   "metadata": {},
   "outputs": [
    {
     "data": {
      "text/plain": [
       "array([[4, 5],\n",
       "       [7, 8]])"
      ]
     },
     "execution_count": 24,
     "metadata": {},
     "output_type": "execute_result"
    }
   ],
   "source": [
    "mat = np.array([[1, 2, 3],\n",
    "                [4, 5, 6],\n",
    "                [7, 8, 9],\n",
    "                [0,0,0]\n",
    "                ])\n",
    "mat[-3:-1,-3:-1]"
   ]
  },
  {
   "cell_type": "code",
   "execution_count": 22,
   "id": "ec555d49",
   "metadata": {},
   "outputs": [
    {
     "data": {
      "text/plain": [
       "array([4, 5])"
      ]
     },
     "execution_count": 22,
     "metadata": {},
     "output_type": "execute_result"
    }
   ],
   "source": [
    "vec_1 = np.array([1, 2, 3, 4,5,6])\n",
    "vec_1[-3:-1]"
   ]
  },
  {
   "cell_type": "code",
   "execution_count": 25,
   "id": "ff01e9e1",
   "metadata": {},
   "outputs": [
    {
     "data": {
      "text/plain": [
       "array([[1, 4, 7, 0],\n",
       "       [2, 5, 8, 0],\n",
       "       [3, 6, 9, 0]])"
      ]
     },
     "execution_count": 25,
     "metadata": {},
     "output_type": "execute_result"
    }
   ],
   "source": [
    "transposed = mat.T\n",
    "transposed"
   ]
  },
  {
   "cell_type": "code",
   "execution_count": 29,
   "id": "a1a30b77",
   "metadata": {},
   "outputs": [
    {
     "data": {
      "text/plain": [
       "array([  0,  90, 180, 270, 360])"
      ]
     },
     "execution_count": 29,
     "metadata": {},
     "output_type": "execute_result"
    }
   ],
   "source": [
    "mat = np.arange(0,361,90)\n",
    "mat"
   ]
  },
  {
   "cell_type": "code",
   "execution_count": 3,
   "id": "64f0c6d4",
   "metadata": {},
   "outputs": [],
   "source": [
    "mat_1 = np.ones((3,4))\n",
    "mat_2 = np.zeros((3,4))"
   ]
  },
  {
   "cell_type": "code",
   "execution_count": 4,
   "id": "2755b6d0",
   "metadata": {},
   "outputs": [],
   "source": [
    "np.savez('test.npz', ones_mat = mat_1 , zeros_mat = mat_2)"
   ]
  },
  {
   "cell_type": "code",
   "execution_count": 5,
   "id": "507e17e3",
   "metadata": {},
   "outputs": [
    {
     "name": "stdout",
     "output_type": "stream",
     "text": [
      "[[1. 1. 1. 1.]\n",
      " [1. 1. 1. 1.]\n",
      " [1. 1. 1. 1.]]\n"
     ]
    }
   ],
   "source": [
    "with np.load('test.npz') as file:\n",
    "    mat_1 = file['ones_mat']\n",
    "    mat_2 = file['zeros_mat']\n",
    "print(mat_1)    "
   ]
  },
  {
   "cell_type": "code",
   "execution_count": 6,
   "id": "de080dcc",
   "metadata": {},
   "outputs": [
    {
     "data": {
      "text/plain": [
       "array([[1, 2, 3],\n",
       "       [0, 0, 0],\n",
       "       [4, 5, 6],\n",
       "       [0, 0, 0]])"
      ]
     },
     "execution_count": 6,
     "metadata": {},
     "output_type": "execute_result"
    }
   ],
   "source": [
    "m1 = np.array([[1,2,3],\n",
    "               [0,0,0]\n",
    "               \n",
    "               ])\n",
    "m2 = np.array([[4,5,6],\n",
    "               [0,0,0]\n",
    "               \n",
    "               ])\n",
    "vert_mat = np.vstack((m1,m2))\n",
    "vert_mat = np.hstack((m1,m2))\n",
    "vert_mat"
   ]
  },
  {
   "cell_type": "code",
   "execution_count": 7,
   "id": "867253ce",
   "metadata": {},
   "outputs": [
    {
     "data": {
      "text/plain": [
       "array([False, False, False, False, False])"
      ]
     },
     "execution_count": 7,
     "metadata": {},
     "output_type": "execute_result"
    }
   ],
   "source": [
    "s = 5\n",
    "v = np.array([ 2, 4 , 3 ,4 , 10])\n",
    "v == s"
   ]
  },
  {
   "cell_type": "code",
   "execution_count": 9,
   "id": "49803c73",
   "metadata": {},
   "outputs": [
    {
     "data": {
      "text/plain": [
       "np.True_"
      ]
     },
     "execution_count": 9,
     "metadata": {},
     "output_type": "execute_result"
    }
   ],
   "source": [
    "v = np.array([ 1 ,2, 4 , 5 , 0])\n",
    "np.any(v>2)"
   ]
  },
  {
   "cell_type": "code",
   "execution_count": 11,
   "id": "7bd4fc90",
   "metadata": {},
   "outputs": [
    {
     "data": {
      "text/plain": [
       "array([ True, False,  True,  True, False])"
      ]
     },
     "execution_count": 11,
     "metadata": {},
     "output_type": "execute_result"
    }
   ],
   "source": [
    "v1 = np.array([ 2, 4 , 3 ,4 , 10])\n",
    "v2 = np.array([ 1 ,2, 4 , 5 , 0])\n",
    "np.isclose(v1,v2, atol=1)"
   ]
  },
  {
   "cell_type": "code",
   "execution_count": 10,
   "id": "945c65f2",
   "metadata": {},
   "outputs": [
    {
     "data": {
      "text/plain": [
       "array([ 4,  4, 10])"
      ]
     },
     "execution_count": 10,
     "metadata": {},
     "output_type": "execute_result"
    }
   ],
   "source": [
    "v = np.array([ 2, 4 , 3 ,4 , 10])\n",
    "condition = v>=4\n",
    "cond_access = v[condition]\n",
    "cond_access"
   ]
  },
  {
   "cell_type": "code",
   "execution_count": null,
   "id": "bb11a883",
   "metadata": {},
   "outputs": [],
   "source": []
  }
 ],
 "metadata": {
  "kernelspec": {
   "display_name": "Python 3",
   "language": "python",
   "name": "python3"
  },
  "language_info": {
   "codemirror_mode": {
    "name": "ipython",
    "version": 3
   },
   "file_extension": ".py",
   "mimetype": "text/x-python",
   "name": "python",
   "nbconvert_exporter": "python",
   "pygments_lexer": "ipython3",
   "version": "3.12.9"
  }
 },
 "nbformat": 4,
 "nbformat_minor": 5
}
